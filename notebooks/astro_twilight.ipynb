{
 "cells": [
  {
   "cell_type": "markdown",
   "metadata": {},
   "source": [
    "## astronomical twilight\n",
    "\n",
    "the purpose of this notebook is to show how we can compute astronomical twilight,\n",
    "so that given an h3 cell we can find the nearest astro twilight on which to run\n",
    "a prediction.\n"
   ]
  },
  {
   "cell_type": "code",
   "execution_count": 7,
   "metadata": {},
   "outputs": [],
   "source": [
    "import astropy.units as u\n",
    "from astroplan import Observer\n",
    "from astropy.time import Time"
   ]
  },
  {
   "cell_type": "code",
   "execution_count": 8,
   "metadata": {},
   "outputs": [
    {
     "data": {
      "text/plain": [
       "<Time object: scale='utc' format='datetime' value=2023-12-11 00:42:13.977214>"
      ]
     },
     "execution_count": 8,
     "metadata": {},
     "output_type": "execute_result"
    }
   ],
   "source": [
    "now = Time.now()\n",
    "now"
   ]
  },
  {
   "cell_type": "code",
   "execution_count": 11,
   "metadata": {},
   "outputs": [
    {
     "data": {
      "text/plain": [
       "'2023-12-11 12:53:12.159'"
      ]
     },
     "execution_count": 11,
     "metadata": {},
     "output_type": "execute_result"
    }
   ],
   "source": [
    "ASTRO_TWILIGHT_DEGS = -18\n",
    "\n",
    "TEST_LAT = 43.05148\n",
    "TEST_LON = 78.57732\n",
    "\n",
    "\n",
    "def get_nearest_astro_twilight(observer: Observer):\n",
    "    \"\"\"Gets the UTC time of the nearest astronomical twilight at a location\"\"\"\n",
    "    next_sunset = observer.sun_set_time(\n",
    "        Time.now(), which=\"nearest\", horizon=u.degree * ASTRO_TWILIGHT_DEGS\n",
    "    )\n",
    "    return next_sunset\n",
    "\n",
    "\n",
    "observer = Observer(longitude=TEST_LON, latitude=TEST_LAT)\n",
    "time = get_nearest_astro_twilight(observer)\n",
    "time.iso"
   ]
  }
 ],
 "metadata": {
  "kernelspec": {
   "display_name": "Python 3",
   "language": "python",
   "name": "python3"
  },
  "language_info": {
   "codemirror_mode": {
    "name": "ipython",
    "version": 3
   },
   "file_extension": ".py",
   "mimetype": "text/x-python",
   "name": "python",
   "nbconvert_exporter": "python",
   "pygments_lexer": "ipython3",
   "version": "3.11.6"
  }
 },
 "nbformat": 4,
 "nbformat_minor": 2
}
