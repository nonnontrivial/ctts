{
 "cells": [
  {
   "cell_type": "markdown",
   "metadata": {},
   "source": [
    "# globe at night data processing\n",
    "\n",
    "The purpose of this notebook is to bring all globe at night csvs into a single dataframe.\n",
    "We want them in a single dataframe so that a predictive model an be trained on it.\n"
   ]
  },
  {
   "cell_type": "code",
   "execution_count": 104,
   "metadata": {},
   "outputs": [
    {
     "data": {
      "text/plain": [
       "<bound method DataFrame.info of         index ObsType  Latitude  Longitude  Elevation(m)      UTDate UTTime  \\\n",
       "0          39     SQM   34.2365 -110.08400     1964.3800  2019-01-02  02:28   \n",
       "1          41     SQM   33.3369 -111.42500      561.7730  2019-01-02  03:10   \n",
       "2         110     SQM   38.8878 -119.82000     1466.4800  2019-01-03  07:14   \n",
       "3         130     SQM   45.7688    1.05404      333.9360  2019-01-02  22:30   \n",
       "4         170     SQM   33.5127 -112.45900      347.5930  2019-01-04  06:05   \n",
       "...       ...     ...       ...        ...           ...         ...    ...   \n",
       "14856  246181     SQM   53.7430   -1.58675      113.4350  2017-12-18  20:51   \n",
       "14857  246201     SQM   38.8878 -119.82000     1466.4800  2017-12-19  11:00   \n",
       "14858  246208     SQM   37.8585 -122.14400      345.8890  2017-12-21  07:25   \n",
       "14859  246216     SQM   47.6102   20.72810       91.7003  2017-12-18  18:30   \n",
       "14860  246217     SQM   47.6102   20.72810       91.7585  2017-11-15  19:59   \n",
       "\n",
       "       LimitingMag  SQMReading SQMSerial       CloudCover  \\\n",
       "0              4.0       17.78      06c0  over 1/2 of sky   \n",
       "1              5.0       20.67      3722            clear   \n",
       "2              4.0       21.24       NaN            clear   \n",
       "3              5.0       21.15      7634            clear   \n",
       "4              4.0       19.52      06a6            clear   \n",
       "...            ...         ...       ...              ...   \n",
       "14856          2.0       18.52      0407            clear   \n",
       "14857          6.0       21.35       NaN            clear   \n",
       "14858          5.0       19.50       NaN            clear   \n",
       "14859          4.0       20.67      4772            clear   \n",
       "14860          5.0       20.94      4772            clear   \n",
       "\n",
       "                                              SkyComment  \\\n",
       "0                                              Over cast   \n",
       "1                Phoenix light dome comes from the West.   \n",
       "2                                                  clear   \n",
       "3         ciel clair, dme lumineux Nord Est vers Limoges   \n",
       "4      Clear, with cool, dry air (temp~36F; dewpoint~...   \n",
       "...                                                  ...   \n",
       "14856                  Clear, but distinctive blue glow.   \n",
       "14857                                              clear   \n",
       "14858                                                NaN   \n",
       "14859                                                NaN   \n",
       "14860                                                NaN   \n",
       "\n",
       "                                         LocationComment  \\\n",
       "0      Rural, l steet light far away, very dark, 12 i...   \n",
       "1                                                    NaN   \n",
       "2                                                    NaN   \n",
       "3                      Site rural, clairage public teint   \n",
       "4      Suburban subdivision, with no streetlights, bu...   \n",
       "...                                                  ...   \n",
       "14856                   Suburban, lots of street lights.   \n",
       "14857                                                NaN   \n",
       "14858                                                NaN   \n",
       "14859                                                NaN   \n",
       "14860                                                NaN   \n",
       "\n",
       "                          Country          UTDatetime  UTTimeHour  \n",
       "0         United States - Arizona 2019-01-02 02:28:00    0.500000  \n",
       "1         United States - Arizona 2019-01-02 03:10:00    0.707107  \n",
       "2          United States - Nevada 2019-01-03 07:14:00    0.965926  \n",
       "3                          France 2019-01-02 22:30:00   -0.500000  \n",
       "4         United States - Arizona 2019-01-04 06:05:00    1.000000  \n",
       "...                           ...                 ...         ...  \n",
       "14856              United Kingdom 2017-12-18 20:51:00   -0.866025  \n",
       "14857      United States - Nevada 2017-12-19 11:00:00    0.258819  \n",
       "14858  United States - California 2017-12-21 07:25:00    0.965926  \n",
       "14859                     Hungary 2017-12-18 18:30:00   -1.000000  \n",
       "14860                     Hungary 2017-11-15 19:59:00   -0.965926  \n",
       "\n",
       "[14861 rows x 16 columns]>"
      ]
     },
     "execution_count": 104,
     "metadata": {},
     "output_type": "execute_result"
    }
   ],
   "source": [
    "import math\n",
    "from pathlib import Path\n",
    "\n",
    "import astropy.units as u\n",
    "import numpy as np\n",
    "import pandas as pd\n",
    "from astroplan import Observer\n",
    "from astropy.coordinates import EarthLocation\n",
    "from astropy.time import Time\n",
    "\n",
    "SQM_OBS_TYPE = \"SQM\"\n",
    "MAX_SQM = 22\n",
    "MIN_SQM = 16\n",
    "\n",
    "cwd = Path.cwd()\n",
    "data_path = cwd / \"data\" / \"globe_at_night\"\n",
    "dataframes = [\n",
    "    pd.read_csv(p, on_bad_lines=\"skip\")\n",
    "    for p in data_path.glob(\"*.csv\")\n",
    "    if p.stem != \"GaN2022\"\n",
    "]\n",
    "df = pd.concat(dataframes, ignore_index=True)\n",
    "df = df.drop(columns=[\"ID\", \"ObsID\", \"LocalDate\", \"LocalTime\", \"Constellation\"])\n",
    "df = df.dropna(subset=[\"SQMReading\", \"CloudCover\", \"Elevation(m)\"], how=\"any\", axis=0)\n",
    "df = df[df[\"ObsType\"] == SQM_OBS_TYPE]\n",
    "df = df[df[\"SQMReading\"] <= MAX_SQM]\n",
    "df = df[df[\"SQMReading\"] >= MIN_SQM]\n",
    "df = df.reset_index()\n",
    "df[\"UTDatetime\"] = pd.to_datetime(\n",
    "    df[\"UTDate\"] + \" \" + df[\"UTTime\"], format=\"%Y-%m-%d %H:%M\"\n",
    ")\n",
    "df[\"UTTimeHour\"] = np.sin(2 * np.pi * df[\"UTDatetime\"].dt.hour / 24)\n",
    "df.info"
   ]
  },
  {
   "cell_type": "code",
   "execution_count": 105,
   "metadata": {},
   "outputs": [],
   "source": [
    "def get_moon_altaz(datetime, lat, lon):\n",
    "    time = Time(datetime)\n",
    "    location = EarthLocation.from_geodetic(lon * u.degree, lat * u.degree)\n",
    "    observer = Observer(location=location)\n",
    "    return observer.moon_altaz(time)\n",
    "\n",
    "\n",
    "def get_moon_alt(datetime, lat, lon):\n",
    "    altaz = get_moon_altaz(datetime, lat, lon)\n",
    "    return altaz.alt.value\n",
    "\n",
    "\n",
    "def get_moon_az(datetime, lat, lon):\n",
    "    altaz = get_moon_altaz(datetime, lat, lon)\n",
    "    return altaz.az.value\n",
    "\n",
    "\n",
    "df[\"MoonAlt\"] = df.apply(\n",
    "    lambda x: get_moon_alt(x[\"UTDatetime\"], x[\"Latitude\"], x[\"Longitude\"]), axis=1\n",
    ")\n",
    "df[\"MoonAz\"] = df.apply(\n",
    "    lambda x: get_moon_az(x[\"UTDatetime\"], x[\"Latitude\"], x[\"Longitude\"]), axis=1\n",
    ")"
   ]
  },
  {
   "cell_type": "code",
   "execution_count": 106,
   "metadata": {},
   "outputs": [],
   "source": [
    "def get_oktas_from_description(description: str) -> int:\n",
    "    match description:\n",
    "        case \"0\" | \"clear\":\n",
    "            return 0\n",
    "        case \"25\" | \"1/4 of sky\":\n",
    "            return 2\n",
    "        case \"50\" | \"1/2 of sky\":\n",
    "            return 4\n",
    "        case \"75\" | \"over 1/2 of sky\":\n",
    "            return 6\n",
    "        case _:\n",
    "            return 8\n",
    "\n",
    "\n",
    "df[\"CloudCover\"] = df[\"CloudCover\"].map(get_oktas_from_description)"
   ]
  },
  {
   "cell_type": "code",
   "execution_count": 107,
   "metadata": {},
   "outputs": [],
   "source": [
    "output_file_path = Path.cwd() / \"data\" / \"gan.csv\"\n",
    "df.to_csv(output_file_path, index=False)"
   ]
  },
  {
   "cell_type": "code",
   "execution_count": 108,
   "metadata": {},
   "outputs": [
    {
     "name": "stderr",
     "output_type": "stream",
     "text": [
      "/usr/local/lib/python3.11/site-packages/numpy/lib/function_base.py:2889: RuntimeWarning: Degrees of freedom <= 0 for slice\n",
      "  c = cov(x, y, rowvar, dtype=dtype)\n",
      "/usr/local/lib/python3.11/site-packages/numpy/lib/function_base.py:2748: RuntimeWarning: divide by zero encountered in divide\n",
      "  c *= np.true_divide(1, fact)\n",
      "/usr/local/lib/python3.11/site-packages/numpy/lib/function_base.py:2748: RuntimeWarning: invalid value encountered in multiply\n",
      "  c *= np.true_divide(1, fact)\n"
     ]
    },
    {
     "data": {
      "text/plain": [
       "{'index': -0.007313246819735647,\n",
       " 'Latitude': -0.038435703339897494,\n",
       " 'Longitude': 0.09874163511112802,\n",
       " 'Elevation(m)': 0.25910230694150344,\n",
       " 'LimitingMag': 0.07848802762062192,\n",
       " 'SQMReading': 1.0,\n",
       " 'SQMSerial': 0.0016856163982963998,\n",
       " 'CloudCover': -0.2456437264534707,\n",
       " 'LocationComment': 1.0,\n",
       " 'UTDatetime': 0.27864893916608474,\n",
       " 'UTTimeHour': 0.09087558395241287,\n",
       " 'MoonAlt': -0.028142898215313364,\n",
       " 'MoonAz': -0.002344329029128206}"
      ]
     },
     "execution_count": 108,
     "metadata": {},
     "output_type": "execute_result"
    }
   ],
   "source": [
    "correlations = {}\n",
    "for column in df.columns:\n",
    "    try:\n",
    "        df[column] = pd.to_numeric(df[column], errors=\"coerce\")\n",
    "        if df[column].dtype == \"float64\" or df[column].dtype == \"int64\":\n",
    "            correlation = df[\"SQMReading\"].corr(df[column])\n",
    "            if not math.isnan(correlation):\n",
    "                correlations[column] = correlation\n",
    "    except ValueError:\n",
    "        pass\n",
    "correlations"
   ]
  }
 ],
 "metadata": {
  "kernelspec": {
   "display_name": "Python 3",
   "language": "python",
   "name": "python3"
  },
  "language_info": {
   "codemirror_mode": {
    "name": "ipython",
    "version": 3
   },
   "file_extension": ".py",
   "mimetype": "text/x-python",
   "name": "python",
   "nbconvert_exporter": "python",
   "pygments_lexer": "ipython3",
   "version": "3.11.6"
  }
 },
 "nbformat": 4,
 "nbformat_minor": 2
}
