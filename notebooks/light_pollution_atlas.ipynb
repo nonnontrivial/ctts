{
 "cells": [
  {
   "cell_type": "markdown",
   "metadata": {},
   "source": [
    "## light pollution atlas\n",
    "\n",
    "The purpose of this notebook is to prove a method for reading light pollution data at a particular latitude and longitude.\n",
    "\n",
    "https://gis.stackexchange.com/questions/371798/translating-epsg4326-lon-lat-coordinates-to-xy-using-pyproj\n"
   ]
  },
  {
   "cell_type": "code",
   "execution_count": null,
   "metadata": {},
   "outputs": [],
   "source": [
    "from pathlib import Path\n",
    "\n",
    "from PIL import Image\n",
    "from pyproj import Proj\n",
    "\n",
    "cwd = Path.cwd()\n",
    "path_to_image = cwd / \"data\" / \"images\" / \"lp2022.png\"\n",
    "image = Image.open(path_to_image).convert(\"RGBA\")"
   ]
  },
  {
   "cell_type": "code",
   "execution_count": null,
   "metadata": {},
   "outputs": [],
   "source": [
    "lat, lon = -30, -70"
   ]
  },
  {
   "cell_type": "markdown",
   "metadata": {},
   "source": [
    "lat, lon = 43.05148, -78.5767\n",
    "image.width, image.height\n"
   ]
  },
  {
   "cell_type": "code",
   "execution_count": null,
   "metadata": {},
   "outputs": [],
   "source": [
    "width_scale = image.width / 360\n",
    "height_scale = image.height / 180\n",
    "width_scale, height_scale"
   ]
  },
  {
   "cell_type": "code",
   "execution_count": null,
   "metadata": {},
   "outputs": [],
   "source": [
    "proj = Proj(proj=\"latlon\", ellps=\"WGS84\")\n",
    "cx, cy = proj(lon, lat)\n",
    "cx = (lon + 180) * width_scale\n",
    "cy = (90 - lat) * height_scale\n",
    "cx, cy"
   ]
  },
  {
   "cell_type": "code",
   "execution_count": null,
   "metadata": {},
   "outputs": [],
   "source": [
    "pixel = image.getpixel((cx, cy))\n",
    "pixel"
   ]
  },
  {
   "cell_type": "code",
   "execution_count": null,
   "metadata": {},
   "outputs": [],
   "source": [
    "cropped = image.crop((cx, cy - 100, cx + 100, cy + 100))\n",
    "cropped"
   ]
  },
  {
   "cell_type": "code",
   "execution_count": null,
   "metadata": {},
   "outputs": [],
   "source": [
    "for x in range(image.width // 100):\n",
    "    for y in range(image.height // 10):\n",
    "        if x % 10 == 0:\n",
    "            pixel = image.getpixel((x, y))\n",
    "            print(f\"rgb is {pixel}\")"
   ]
  }
 ],
 "metadata": {
  "kernelspec": {
   "display_name": "Python 3",
   "language": "python",
   "name": "python3"
  },
  "language_info": {
   "codemirror_mode": {
    "name": "ipython",
    "version": 3
   },
   "file_extension": ".py",
   "mimetype": "text/x-python",
   "name": "python",
   "nbconvert_exporter": "python",
   "pygments_lexer": "ipython3",
   "version": "3.11.6"
  }
 },
 "nbformat": 4,
 "nbformat_minor": 2
}
