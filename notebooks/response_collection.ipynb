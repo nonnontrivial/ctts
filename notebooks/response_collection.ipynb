{
 "cells": [
  {
   "cell_type": "markdown",
   "metadata": {},
   "source": [
    "## response collection\n",
    "\n",
    "The purpose of this notebook is to compare the model predictions saved to a mongodb\n",
    "collection with other sources of information about the site in the model at the time\n",
    "of the astronomical twilight in the response.\n"
   ]
  },
  {
   "cell_type": "code",
   "execution_count": 50,
   "metadata": {},
   "outputs": [
    {
     "data": {
      "text/plain": [
       "Database(MongoClient(host=['ac-atnkhx8-shard-00-00.7a9iiun.mongodb.net:27017', 'ac-atnkhx8-shard-00-02.7a9iiun.mongodb.net:27017', 'ac-atnkhx8-shard-00-01.7a9iiun.mongodb.net:27017'], document_class=dict, tz_aware=False, connect=True, ssl=True, ssl_cert_reqs=<VerifyMode.CERT_NONE: 0>, authsource='admin', replicaset='atlas-3ats48-shard-0'), 'validation_data')"
      ]
     },
     "execution_count": 50,
     "metadata": {},
     "output_type": "execute_result"
    }
   ],
   "source": [
    "import typing as t\n",
    "from dataclasses import dataclass\n",
    "from pathlib import Path\n",
    "from datetime import datetime\n",
    "\n",
    "import httpx\n",
    "from pymongo import MongoClient\n",
    "\n",
    "DB_NAME = \"validation_data\"\n",
    "COLLECTION_NAME = \"api_response\"\n",
    "\n",
    "coordinates = (-30.2466, -70.7494)\n",
    "lat, lon = coordinates\n",
    "\n",
    "\n",
    "@dataclass\n",
    "class Site:\n",
    "    lat: str\n",
    "    lon: str\n",
    "    astro_twilight: str\n",
    "    astro_twilight_hour: int\n",
    "\n",
    "\n",
    "with open(Path.cwd() / \".env\") as f:\n",
    "    first_line, *_ = f.read().split(\"\\n\")\n",
    "    idx = first_line.find(\"=\")\n",
    "    uri = first_line[idx + 1 :]\n",
    "\n",
    "\n",
    "def get_db():\n",
    "    client = MongoClient(uri)\n",
    "    return client[DB_NAME]\n",
    "\n",
    "\n",
    "db = get_db()\n",
    "db"
   ]
  },
  {
   "cell_type": "code",
   "execution_count": 51,
   "metadata": {},
   "outputs": [
    {
     "data": {
      "text/plain": [
       "Collection(Database(MongoClient(host=['ac-atnkhx8-shard-00-00.7a9iiun.mongodb.net:27017', 'ac-atnkhx8-shard-00-02.7a9iiun.mongodb.net:27017', 'ac-atnkhx8-shard-00-01.7a9iiun.mongodb.net:27017'], document_class=dict, tz_aware=False, connect=True, ssl=True, ssl_cert_reqs=<VerifyMode.CERT_NONE: 0>, authsource='admin', replicaset='atlas-3ats48-shard-0'), 'validation_data'), 'api_response')"
      ]
     },
     "execution_count": 51,
     "metadata": {},
     "output_type": "execute_result"
    }
   ],
   "source": [
    "collection = db[COLLECTION_NAME]\n",
    "collection"
   ]
  },
  {
   "cell_type": "code",
   "execution_count": 52,
   "metadata": {},
   "outputs": [
    {
     "data": {
      "text/plain": [
       "{'brightness_mpsas': 19.7033,\n",
       " 'astro_twilight': {'iso': '2023-12-31 01:24:12.448', 'type': 'nearest'},\n",
       " '_id': ObjectId('6590c6deb29b8604829db6c8')}"
      ]
     },
     "execution_count": 52,
     "metadata": {},
     "output_type": "execute_result"
    }
   ],
   "source": [
    "async def get_prediction(coordinates: t.Tuple):\n",
    "    async with httpx.AsyncClient() as client:\n",
    "        url = f\"http://localhost:8000/api/prediction?lat={lat}&lon={lon}\"\n",
    "        r = await client.get(url)\n",
    "        return r.json()\n",
    "\n",
    "\n",
    "async def insert_prediction():\n",
    "    prediction = await get_prediction(coordinates)\n",
    "    collection.insert_one(prediction)\n",
    "    return prediction\n",
    "\n",
    "\n",
    "prediction = await insert_prediction()\n",
    "prediction"
   ]
  },
  {
   "cell_type": "code",
   "execution_count": 53,
   "metadata": {},
   "outputs": [
    {
     "data": {
      "text/plain": [
       "[19.7034, 19.7034, 19.7033, 19.7034, 19.7034, 19.7034, 19.7034, 19.7033]"
      ]
     },
     "execution_count": 53,
     "metadata": {},
     "output_type": "execute_result"
    }
   ],
   "source": [
    "items_in_collection = list(collection.find())\n",
    "brightness_values = [item[\"brightness_mpsas\"] for item in items_in_collection]\n",
    "brightness_values"
   ]
  },
  {
   "cell_type": "code",
   "execution_count": 59,
   "metadata": {},
   "outputs": [
    {
     "data": {
      "text/plain": [
       "0"
      ]
     },
     "execution_count": 59,
     "metadata": {},
     "output_type": "execute_result"
    }
   ],
   "source": [
    "open_meteo_url = \"https://archive-api.open-meteo.com/v1\"\n",
    "\n",
    "\n",
    "async def get_historical_meteo_data_at_site(site: Site) -> t.Any:\n",
    "    url = f\"{open_meteo_url}/archive?latitude={site.lat}&longitude={site.lon}&start_date=2023-12-15&end_date=2023-12-16&hourly=temperature_2m,cloud_cover\"\n",
    "    async with httpx.AsyncClient() as client:\n",
    "        r = await client.get(url)\n",
    "        r.raise_for_status()\n",
    "        json = r.json()\n",
    "        return json[\"hourly\"][\"cloud_cover\"][site.astro_twilight_hour]\n",
    "\n",
    "\n",
    "astro_twilight_iso = prediction[\"astro_twilight\"][\"iso\"]\n",
    "s = Site(\n",
    "    lat=lat,\n",
    "    lon=lon,\n",
    "    astro_twilight=astro_twilight_iso,\n",
    "    astro_twilight_hour=datetime.strptime(\n",
    "        astro_twilight_iso, \"%Y-%m-%d %H:%M:%S.%f\"\n",
    "    ).hour,\n",
    ")\n",
    "await get_historical_meteo_data_at_site(s)"
   ]
  }
 ],
 "metadata": {
  "kernelspec": {
   "display_name": "Python 3",
   "language": "python",
   "name": "python3"
  },
  "language_info": {
   "codemirror_mode": {
    "name": "ipython",
    "version": 3
   },
   "file_extension": ".py",
   "mimetype": "text/x-python",
   "name": "python",
   "nbconvert_exporter": "python",
   "pygments_lexer": "ipython3",
   "version": "3.11.6"
  }
 },
 "nbformat": 4,
 "nbformat_minor": 2
}
