{
 "cells": [
  {
   "cell_type": "markdown",
   "metadata": {},
   "source": [
    "## response collection\n",
    "\n",
    "The purpose of this notebook is to compare ys predicted at a site with with other sources of information about that site.\n"
   ]
  },
  {
   "cell_type": "code",
   "execution_count": null,
   "metadata": {},
   "outputs": [],
   "source": [
    "import typing as t\n",
    "from dataclasses import dataclass\n",
    "from pathlib import Path\n",
    "from datetime import datetime, timedelta\n",
    "\n",
    "import httpx\n",
    "from pymongo import MongoClient\n",
    "\n",
    "DB_NAME = \"validation_data\"\n",
    "COLLECTION_NAME = \"api_response\"\n",
    "\n",
    "coordinates = (-30.2466, -70.7494)\n",
    "lat, lon = coordinates\n",
    "\n",
    "\n",
    "@dataclass\n",
    "class Site:\n",
    "    lat: str\n",
    "    lon: str\n",
    "    astro_twilight_datetime: datetime\n",
    "\n",
    "\n",
    "def get_db():\n",
    "    with open(Path.cwd() / \".env\") as f:\n",
    "        first_line, *_ = f.read().split(\"\\n\")\n",
    "        idx = first_line.find(\"=\")\n",
    "        uri = first_line[idx + 1 :]\n",
    "\n",
    "    client = MongoClient(uri)\n",
    "    return client[DB_NAME]\n",
    "\n",
    "\n",
    "db = get_db()\n",
    "db"
   ]
  },
  {
   "cell_type": "code",
   "execution_count": null,
   "metadata": {},
   "outputs": [],
   "source": [
    "collection = db[COLLECTION_NAME]\n",
    "collection"
   ]
  },
  {
   "cell_type": "code",
   "execution_count": 93,
   "metadata": {},
   "outputs": [
    {
     "data": {
      "text/plain": [
       "{'brightness_mpsas': 19.7862,\n",
       " 'astro_twilight': {'iso': '2024-01-01 01:24:21.890', 'type': 'nearest'},\n",
       " '_id': ObjectId('6591e8a0b29b8604829db6d0')}"
      ]
     },
     "execution_count": 93,
     "metadata": {},
     "output_type": "execute_result"
    }
   ],
   "source": [
    "async def get_prediction():\n",
    "    async with httpx.AsyncClient() as client:\n",
    "        url = f\"http://localhost:8000/api/prediction?lat={lat}&lon={lon}\"\n",
    "        r = await client.get(url)\n",
    "        return r.json()\n",
    "\n",
    "\n",
    "async def insert_prediction():\n",
    "    prediction = await get_prediction()\n",
    "    collection.insert_one(prediction)\n",
    "    return prediction\n",
    "\n",
    "\n",
    "prediction = await insert_prediction()\n",
    "prediction"
   ]
  },
  {
   "cell_type": "code",
   "execution_count": null,
   "metadata": {},
   "outputs": [],
   "source": [
    "open_meteo_url = \"https://archive-api.open-meteo.com/v1\"\n",
    "\n",
    "\n",
    "async def get_historical_meteo_data_at_site(site: Site) -> t.Any:\n",
    "    def format_datetime(dt: datetime):\n",
    "        return dt.strftime(\"%Y-%m-%d\")\n",
    "\n",
    "    astro_twilight_plus_one = site.astro_twilight_datetime + timedelta(days=0)\n",
    "    start_date_str = format_datetime(site.astro_twilight_datetime)\n",
    "    end_date_str = format_datetime(astro_twilight_plus_one)\n",
    "    url = f\"{open_meteo_url}/archive?latitude={site.lat}&longitude={site.lon}&start_date={start_date_str}&end_date={end_date_str}&hourly=temperature_2m,cloud_cover\"\n",
    "    print(url)\n",
    "    async with httpx.AsyncClient() as client:\n",
    "        r = await client.get(url)\n",
    "        r.raise_for_status()\n",
    "        json = r.json()\n",
    "        return json[\"hourly\"][\"cloud_cover\"][site.astro_twilight_datetime.hour]"
   ]
  },
  {
   "cell_type": "code",
   "execution_count": null,
   "metadata": {},
   "outputs": [],
   "source": [
    "items_in_collection = list(collection.find())\n",
    "items_in_collection"
   ]
  },
  {
   "cell_type": "code",
   "execution_count": null,
   "metadata": {},
   "outputs": [],
   "source": [
    "for item in items_in_collection:\n",
    "    astro_twilight_iso = item[\"astro_twilight\"][\"iso\"]\n",
    "    astro_twilight_datetime = datetime.strptime(\n",
    "        astro_twilight_iso, \"%Y-%m-%d %H:%M:%S.%f\"\n",
    "    )\n",
    "    s = Site(\n",
    "        lat=lat,\n",
    "        lon=lon,\n",
    "        astro_twilight_datetime=astro_twilight_datetime,\n",
    "    )\n",
    "    meteo_data_at_site = await get_historical_meteo_data_at_site(s)\n",
    "    print(meteo_data_at_site)"
   ]
  },
  {
   "cell_type": "code",
   "execution_count": null,
   "metadata": {},
   "outputs": [],
   "source": [
    "collection.delete_many({})"
   ]
  }
 ],
 "metadata": {
  "kernelspec": {
   "display_name": "Python 3",
   "language": "python",
   "name": "python3"
  },
  "language_info": {
   "codemirror_mode": {
    "name": "ipython",
    "version": 3
   },
   "file_extension": ".py",
   "mimetype": "text/x-python",
   "name": "python",
   "nbconvert_exporter": "python",
   "pygments_lexer": "ipython3",
   "version": "3.11.6"
  }
 },
 "nbformat": 4,
 "nbformat_minor": 2
}
