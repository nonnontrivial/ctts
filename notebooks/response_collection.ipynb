{
 "cells": [
  {
   "cell_type": "markdown",
   "metadata": {},
   "source": [
    "## response collection\n",
    "\n",
    "The purpose of this notebook is to compare the model predictions saved to a mongodb\n",
    "collection with other sources of information about the site in the model at the time\n",
    "of the astronomical twilight in the response.\n"
   ]
  },
  {
   "cell_type": "code",
   "execution_count": 76,
   "metadata": {},
   "outputs": [
    {
     "data": {
      "text/plain": [
       "Database(MongoClient(host=['ac-atnkhx8-shard-00-00.7a9iiun.mongodb.net:27017', 'ac-atnkhx8-shard-00-02.7a9iiun.mongodb.net:27017', 'ac-atnkhx8-shard-00-01.7a9iiun.mongodb.net:27017'], document_class=dict, tz_aware=False, connect=True, ssl=True, ssl_cert_reqs=<VerifyMode.CERT_NONE: 0>, authsource='admin', replicaset='atlas-3ats48-shard-0'), 'validation_data')"
      ]
     },
     "execution_count": 76,
     "metadata": {},
     "output_type": "execute_result"
    }
   ],
   "source": [
    "import typing as t\n",
    "from dataclasses import dataclass\n",
    "from pathlib import Path\n",
    "from datetime import datetime, timedelta\n",
    "\n",
    "import httpx\n",
    "from pymongo import MongoClient\n",
    "\n",
    "DB_NAME = \"validation_data\"\n",
    "COLLECTION_NAME = \"api_response\"\n",
    "\n",
    "coordinates = (-30.2466, -70.7494)\n",
    "lat, lon = coordinates\n",
    "\n",
    "\n",
    "@dataclass\n",
    "class Site:\n",
    "    lat: str\n",
    "    lon: str\n",
    "    astro_twilight_datetime: datetime\n",
    "\n",
    "\n",
    "with open(Path.cwd() / \".env\") as f:\n",
    "    first_line, *_ = f.read().split(\"\\n\")\n",
    "    idx = first_line.find(\"=\")\n",
    "    uri = first_line[idx + 1 :]\n",
    "\n",
    "\n",
    "def get_db():\n",
    "    client = MongoClient(uri)\n",
    "    return client[DB_NAME]\n",
    "\n",
    "\n",
    "db = get_db()\n",
    "db"
   ]
  },
  {
   "cell_type": "code",
   "execution_count": 77,
   "metadata": {},
   "outputs": [
    {
     "data": {
      "text/plain": [
       "Collection(Database(MongoClient(host=['ac-atnkhx8-shard-00-00.7a9iiun.mongodb.net:27017', 'ac-atnkhx8-shard-00-02.7a9iiun.mongodb.net:27017', 'ac-atnkhx8-shard-00-01.7a9iiun.mongodb.net:27017'], document_class=dict, tz_aware=False, connect=True, ssl=True, ssl_cert_reqs=<VerifyMode.CERT_NONE: 0>, authsource='admin', replicaset='atlas-3ats48-shard-0'), 'validation_data'), 'api_response')"
      ]
     },
     "execution_count": 77,
     "metadata": {},
     "output_type": "execute_result"
    }
   ],
   "source": [
    "collection = db[COLLECTION_NAME]\n",
    "collection"
   ]
  },
  {
   "cell_type": "code",
   "execution_count": 78,
   "metadata": {},
   "outputs": [
    {
     "data": {
      "text/plain": [
       "{'brightness_mpsas': 19.7863,\n",
       " 'astro_twilight': {'iso': '2024-01-01 01:24:20.546', 'type': 'nearest'},\n",
       " '_id': ObjectId('6591e6ebb29b8604829db6cd')}"
      ]
     },
     "execution_count": 78,
     "metadata": {},
     "output_type": "execute_result"
    }
   ],
   "source": [
    "async def get_prediction(coordinates: t.Tuple):\n",
    "    async with httpx.AsyncClient() as client:\n",
    "        url = f\"http://localhost:8000/api/prediction?lat={lat}&lon={lon}\"\n",
    "        r = await client.get(url)\n",
    "        return r.json()\n",
    "\n",
    "\n",
    "async def insert_prediction():\n",
    "    prediction = await get_prediction(coordinates)\n",
    "    collection.insert_one(prediction)\n",
    "    return prediction\n",
    "\n",
    "\n",
    "prediction = await insert_prediction()\n",
    "prediction"
   ]
  },
  {
   "cell_type": "code",
   "execution_count": null,
   "metadata": {},
   "outputs": [],
   "source": []
  },
  {
   "cell_type": "code",
   "execution_count": 79,
   "metadata": {},
   "outputs": [],
   "source": [
    "open_meteo_url = \"https://archive-api.open-meteo.com/v1\"\n",
    "\n",
    "\n",
    "async def get_historical_meteo_data_at_site(site: Site) -> t.Any:\n",
    "    def format_datetime(dt: datetime):\n",
    "        return dt.strftime(\"%Y-%m-%d\")\n",
    "\n",
    "    astro_twilight_plus_one = site.astro_twilight_datetime + timedelta(days=0)\n",
    "    start_date_str = format_datetime(site.astro_twilight_datetime)\n",
    "    end_date_str = format_datetime(astro_twilight_plus_one)\n",
    "    url = f\"{open_meteo_url}/archive?latitude={site.lat}&longitude={site.lon}&start_date={start_date_str}&end_date={end_date_str}&hourly=temperature_2m,cloud_cover\"\n",
    "    print(url)\n",
    "    async with httpx.AsyncClient() as client:\n",
    "        r = await client.get(url)\n",
    "        r.raise_for_status()\n",
    "        json = r.json()\n",
    "        return json[\"hourly\"][\"cloud_cover\"][site.astro_twilight_datetime.hour]"
   ]
  },
  {
   "cell_type": "code",
   "execution_count": 80,
   "metadata": {},
   "outputs": [
    {
     "data": {
      "text/plain": [
       "[{'_id': ObjectId('6590b4a4b29b8604829db6ba'),\n",
       "  'brightness_mpsas': 19.7034,\n",
       "  'astro_twilight': {'iso': '2023-12-31 01:24:12.658 UTC', 'type': 'nearest'}},\n",
       " {'_id': ObjectId('6590b4ccb29b8604829db6bb'),\n",
       "  'brightness_mpsas': 19.7034,\n",
       "  'astro_twilight': {'iso': '2023-12-31 01:24:12.323 UTC', 'type': 'nearest'}},\n",
       " {'_id': ObjectId('6590b6ceb29b8604829db6bd'),\n",
       "  'brightness_mpsas': 19.7033,\n",
       "  'astro_twilight': {'iso': '2023-12-31 01:24:12.828 UTC', 'type': 'nearest'}},\n",
       " {'_id': ObjectId('6590b6fcb29b8604829db6bf'),\n",
       "  'brightness_mpsas': 19.7034,\n",
       "  'astro_twilight': {'iso': '2023-12-31 01:24:12.503 UTC', 'type': 'nearest'}},\n",
       " {'_id': ObjectId('6590ba81b29b8604829db6c0'),\n",
       "  'brightness_mpsas': 19.7034,\n",
       "  'astro_twilight': {'iso': '2023-12-31 01:24:13.074 UTC', 'type': 'nearest'}},\n",
       " {'_id': ObjectId('6590c0d4b29b8604829db6c4'),\n",
       "  'brightness_mpsas': 19.7034,\n",
       "  'astro_twilight': {'iso': '2023-12-31 01:24:12.324 UTC', 'type': 'nearest'}},\n",
       " {'_id': ObjectId('6590c67ab29b8604829db6c6'),\n",
       "  'brightness_mpsas': 19.7034,\n",
       "  'astro_twilight': {'iso': '2023-12-31 01:24:13.063 UTC', 'type': 'nearest'}},\n",
       " {'_id': ObjectId('6590c6deb29b8604829db6c8'),\n",
       "  'brightness_mpsas': 19.7033,\n",
       "  'astro_twilight': {'iso': '2023-12-31 01:24:12.448', 'type': 'nearest'}},\n",
       " {'_id': ObjectId('6590c8f6b29b8604829db6cb'),\n",
       "  'brightness_mpsas': 19.7034,\n",
       "  'astro_twilight': {'iso': '2023-12-31 01:24:12.776', 'type': 'nearest'}},\n",
       " {'_id': ObjectId('6591e6ebb29b8604829db6cd'),\n",
       "  'brightness_mpsas': 19.7863,\n",
       "  'astro_twilight': {'iso': '2024-01-01 01:24:20.546', 'type': 'nearest'}}]"
      ]
     },
     "execution_count": 80,
     "metadata": {},
     "output_type": "execute_result"
    }
   ],
   "source": [
    "items_in_collection = list(collection.find())\n",
    "items_in_collection"
   ]
  },
  {
   "cell_type": "code",
   "execution_count": 81,
   "metadata": {},
   "outputs": [
    {
     "ename": "ValueError",
     "evalue": "unconverted data remains:  UTC",
     "output_type": "error",
     "traceback": [
      "\u001b[0;31m---------------------------------------------------------------------------\u001b[0m",
      "\u001b[0;31mValueError\u001b[0m                                Traceback (most recent call last)",
      "\u001b[1;32m/Users/nonnontrivial/Documents/ctts/notebooks/response_collection.ipynb Cell 8\u001b[0m line \u001b[0;36m3\n\u001b[1;32m      <a href='vscode-notebook-cell:/Users/nonnontrivial/Documents/ctts/notebooks/response_collection.ipynb#X12sZmlsZQ%3D%3D?line=0'>1</a>\u001b[0m \u001b[39mfor\u001b[39;00m item \u001b[39min\u001b[39;00m items_in_collection:\n\u001b[1;32m      <a href='vscode-notebook-cell:/Users/nonnontrivial/Documents/ctts/notebooks/response_collection.ipynb#X12sZmlsZQ%3D%3D?line=1'>2</a>\u001b[0m     astro_twilight_iso \u001b[39m=\u001b[39m item[\u001b[39m\"\u001b[39m\u001b[39mastro_twilight\u001b[39m\u001b[39m\"\u001b[39m][\u001b[39m\"\u001b[39m\u001b[39miso\u001b[39m\u001b[39m\"\u001b[39m]\n\u001b[0;32m----> <a href='vscode-notebook-cell:/Users/nonnontrivial/Documents/ctts/notebooks/response_collection.ipynb#X12sZmlsZQ%3D%3D?line=2'>3</a>\u001b[0m     astro_twilight_datetime \u001b[39m=\u001b[39m datetime\u001b[39m.\u001b[39;49mstrptime(\n\u001b[1;32m      <a href='vscode-notebook-cell:/Users/nonnontrivial/Documents/ctts/notebooks/response_collection.ipynb#X12sZmlsZQ%3D%3D?line=3'>4</a>\u001b[0m         astro_twilight_iso, \u001b[39m\"\u001b[39;49m\u001b[39m%\u001b[39;49m\u001b[39mY-\u001b[39;49m\u001b[39m%\u001b[39;49m\u001b[39mm-\u001b[39;49m\u001b[39m%d\u001b[39;49;00m\u001b[39m \u001b[39;49m\u001b[39m%\u001b[39;49m\u001b[39mH:\u001b[39;49m\u001b[39m%\u001b[39;49m\u001b[39mM:\u001b[39;49m\u001b[39m%\u001b[39;49m\u001b[39mS.\u001b[39;49m\u001b[39m%f\u001b[39;49;00m\u001b[39m\"\u001b[39;49m\n\u001b[1;32m      <a href='vscode-notebook-cell:/Users/nonnontrivial/Documents/ctts/notebooks/response_collection.ipynb#X12sZmlsZQ%3D%3D?line=4'>5</a>\u001b[0m     )\n\u001b[1;32m      <a href='vscode-notebook-cell:/Users/nonnontrivial/Documents/ctts/notebooks/response_collection.ipynb#X12sZmlsZQ%3D%3D?line=5'>6</a>\u001b[0m     s \u001b[39m=\u001b[39m Site(\n\u001b[1;32m      <a href='vscode-notebook-cell:/Users/nonnontrivial/Documents/ctts/notebooks/response_collection.ipynb#X12sZmlsZQ%3D%3D?line=6'>7</a>\u001b[0m         lat\u001b[39m=\u001b[39mlat,\n\u001b[1;32m      <a href='vscode-notebook-cell:/Users/nonnontrivial/Documents/ctts/notebooks/response_collection.ipynb#X12sZmlsZQ%3D%3D?line=7'>8</a>\u001b[0m         lon\u001b[39m=\u001b[39mlon,\n\u001b[1;32m      <a href='vscode-notebook-cell:/Users/nonnontrivial/Documents/ctts/notebooks/response_collection.ipynb#X12sZmlsZQ%3D%3D?line=8'>9</a>\u001b[0m         astro_twilight_datetime\u001b[39m=\u001b[39mastro_twilight_datetime,\n\u001b[1;32m     <a href='vscode-notebook-cell:/Users/nonnontrivial/Documents/ctts/notebooks/response_collection.ipynb#X12sZmlsZQ%3D%3D?line=9'>10</a>\u001b[0m     )\n\u001b[1;32m     <a href='vscode-notebook-cell:/Users/nonnontrivial/Documents/ctts/notebooks/response_collection.ipynb#X12sZmlsZQ%3D%3D?line=10'>11</a>\u001b[0m     meteo_data \u001b[39m=\u001b[39m \u001b[39mawait\u001b[39;00m get_historical_meteo_data_at_site(s)\n",
      "File \u001b[0;32m/Library/Frameworks/Python.framework/Versions/3.11/lib/python3.11/_strptime.py:568\u001b[0m, in \u001b[0;36m_strptime_datetime\u001b[0;34m(cls, data_string, format)\u001b[0m\n\u001b[1;32m    565\u001b[0m \u001b[39mdef\u001b[39;00m \u001b[39m_strptime_datetime\u001b[39m(\u001b[39mcls\u001b[39m, data_string, \u001b[39mformat\u001b[39m\u001b[39m=\u001b[39m\u001b[39m\"\u001b[39m\u001b[39m%a\u001b[39;00m\u001b[39m \u001b[39m\u001b[39m%\u001b[39m\u001b[39mb \u001b[39m\u001b[39m%d\u001b[39;00m\u001b[39m \u001b[39m\u001b[39m%\u001b[39m\u001b[39mH:\u001b[39m\u001b[39m%\u001b[39m\u001b[39mM:\u001b[39m\u001b[39m%\u001b[39m\u001b[39mS \u001b[39m\u001b[39m%\u001b[39m\u001b[39mY\u001b[39m\u001b[39m\"\u001b[39m):\n\u001b[1;32m    566\u001b[0m \u001b[39m    \u001b[39m\u001b[39m\"\"\"Return a class cls instance based on the input string and the\u001b[39;00m\n\u001b[1;32m    567\u001b[0m \u001b[39m    format string.\"\"\"\u001b[39;00m\n\u001b[0;32m--> 568\u001b[0m     tt, fraction, gmtoff_fraction \u001b[39m=\u001b[39m _strptime(data_string, \u001b[39mformat\u001b[39;49m)\n\u001b[1;32m    569\u001b[0m     tzname, gmtoff \u001b[39m=\u001b[39m tt[\u001b[39m-\u001b[39m\u001b[39m2\u001b[39m:]\n\u001b[1;32m    570\u001b[0m     args \u001b[39m=\u001b[39m tt[:\u001b[39m6\u001b[39m] \u001b[39m+\u001b[39m (fraction,)\n",
      "File \u001b[0;32m/Library/Frameworks/Python.framework/Versions/3.11/lib/python3.11/_strptime.py:352\u001b[0m, in \u001b[0;36m_strptime\u001b[0;34m(data_string, format)\u001b[0m\n\u001b[1;32m    349\u001b[0m     \u001b[39mraise\u001b[39;00m \u001b[39mValueError\u001b[39;00m(\u001b[39m\"\u001b[39m\u001b[39mtime data \u001b[39m\u001b[39m%r\u001b[39;00m\u001b[39m does not match format \u001b[39m\u001b[39m%r\u001b[39;00m\u001b[39m\"\u001b[39m \u001b[39m%\u001b[39m\n\u001b[1;32m    350\u001b[0m                      (data_string, \u001b[39mformat\u001b[39m))\n\u001b[1;32m    351\u001b[0m \u001b[39mif\u001b[39;00m \u001b[39mlen\u001b[39m(data_string) \u001b[39m!=\u001b[39m found\u001b[39m.\u001b[39mend():\n\u001b[0;32m--> 352\u001b[0m     \u001b[39mraise\u001b[39;00m \u001b[39mValueError\u001b[39;00m(\u001b[39m\"\u001b[39m\u001b[39munconverted data remains: \u001b[39m\u001b[39m%s\u001b[39;00m\u001b[39m\"\u001b[39m \u001b[39m%\u001b[39m\n\u001b[1;32m    353\u001b[0m                       data_string[found\u001b[39m.\u001b[39mend():])\n\u001b[1;32m    355\u001b[0m iso_year \u001b[39m=\u001b[39m year \u001b[39m=\u001b[39m \u001b[39mNone\u001b[39;00m\n\u001b[1;32m    356\u001b[0m month \u001b[39m=\u001b[39m day \u001b[39m=\u001b[39m \u001b[39m1\u001b[39m\n",
      "\u001b[0;31mValueError\u001b[0m: unconverted data remains:  UTC"
     ]
    }
   ],
   "source": [
    "for item in items_in_collection:\n",
    "    astro_twilight_iso = item[\"astro_twilight\"][\"iso\"]\n",
    "    astro_twilight_datetime = datetime.strptime(\n",
    "        astro_twilight_iso, \"%Y-%m-%d %H:%M:%S.%f\"\n",
    "    )\n",
    "    s = Site(\n",
    "        lat=lat,\n",
    "        lon=lon,\n",
    "        astro_twilight_datetime=astro_twilight_datetime,\n",
    "    )\n",
    "    meteo_data = await get_historical_meteo_data_at_site(s)\n",
    "    print(meteo_data)"
   ]
  }
 ],
 "metadata": {
  "kernelspec": {
   "display_name": "Python 3",
   "language": "python",
   "name": "python3"
  },
  "language_info": {
   "codemirror_mode": {
    "name": "ipython",
    "version": 3
   },
   "file_extension": ".py",
   "mimetype": "text/x-python",
   "name": "python",
   "nbconvert_exporter": "python",
   "pygments_lexer": "ipython3",
   "version": "3.11.6"
  }
 },
 "nbformat": 4,
 "nbformat_minor": 2
}
