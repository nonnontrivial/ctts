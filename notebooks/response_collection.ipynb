{
 "cells": [
  {
   "cell_type": "code",
   "execution_count": 58,
   "metadata": {},
   "outputs": [
    {
     "data": {
      "text/plain": [
       "Database(MongoClient(host=['ac-atnkhx8-shard-00-01.7a9iiun.mongodb.net:27017', 'ac-atnkhx8-shard-00-02.7a9iiun.mongodb.net:27017', 'ac-atnkhx8-shard-00-00.7a9iiun.mongodb.net:27017'], document_class=dict, tz_aware=False, connect=True, ssl=True, ssl_cert_reqs=<VerifyMode.CERT_NONE: 0>, authsource='admin', replicaset='atlas-3ats48-shard-0'), 'validation_data')"
      ]
     },
     "execution_count": 58,
     "metadata": {},
     "output_type": "execute_result"
    }
   ],
   "source": [
    "from pathlib import Path\n",
    "\n",
    "import httpx\n",
    "from pymongo import MongoClient\n",
    "\n",
    "DB_NAME = \"validation_data\"\n",
    "COLLECTION_NAME = \"api_response\"\n",
    "\n",
    "with open(Path.cwd() / \".env\") as f:\n",
    "    first_line, *_ = f.read().split(\"\\n\")\n",
    "    idx = first_line.find(\"=\")\n",
    "    uri = first_line[idx + 1 :]\n",
    "\n",
    "\n",
    "def get_db():\n",
    "    client = MongoClient(uri)\n",
    "    return client[DB_NAME]\n",
    "\n",
    "\n",
    "db = get_db()\n",
    "db"
   ]
  },
  {
   "cell_type": "code",
   "execution_count": 59,
   "metadata": {},
   "outputs": [
    {
     "data": {
      "text/plain": [
       "Collection(Database(MongoClient(host=['ac-atnkhx8-shard-00-01.7a9iiun.mongodb.net:27017', 'ac-atnkhx8-shard-00-02.7a9iiun.mongodb.net:27017', 'ac-atnkhx8-shard-00-00.7a9iiun.mongodb.net:27017'], document_class=dict, tz_aware=False, connect=True, ssl=True, ssl_cert_reqs=<VerifyMode.CERT_NONE: 0>, authsource='admin', replicaset='atlas-3ats48-shard-0'), 'validation_data'), 'api_response')"
      ]
     },
     "execution_count": 59,
     "metadata": {},
     "output_type": "execute_result"
    }
   ],
   "source": [
    "collection = db[COLLECTION_NAME]\n",
    "collection"
   ]
  },
  {
   "cell_type": "code",
   "execution_count": 60,
   "metadata": {},
   "outputs": [
    {
     "data": {
      "text/plain": [
       "{'brightness_mpsas': 19.7341,\n",
       " 'astro_twilight': {'iso': '2023-12-30 01:24:01.832 UTC', 'type': 'previous'}}"
      ]
     },
     "execution_count": 60,
     "metadata": {},
     "output_type": "execute_result"
    }
   ],
   "source": [
    "async def get_prediction(lat, lon):\n",
    "    async with httpx.AsyncClient() as client:\n",
    "        url = f\"http://localhost:8000/api/prediction?lat={lat}&lon={lon}&astro_twilight_type=previous\"\n",
    "        r = await client.get(url)\n",
    "        return r.json()\n",
    "\n",
    "\n",
    "prediction = await get_prediction(-30.2466, -70.7494)\n",
    "prediction"
   ]
  },
  {
   "cell_type": "code",
   "execution_count": 61,
   "metadata": {},
   "outputs": [
    {
     "data": {
      "text/plain": [
       "<pymongo.results.InsertOneResult at 0x10aed9840>"
      ]
     },
     "execution_count": 61,
     "metadata": {},
     "output_type": "execute_result"
    }
   ],
   "source": [
    "collection.insert_one(prediction)"
   ]
  }
 ],
 "metadata": {
  "kernelspec": {
   "display_name": "Python 3",
   "language": "python",
   "name": "python3"
  },
  "language_info": {
   "codemirror_mode": {
    "name": "ipython",
    "version": 3
   },
   "file_extension": ".py",
   "mimetype": "text/x-python",
   "name": "python",
   "nbconvert_exporter": "python",
   "pygments_lexer": "ipython3",
   "version": "3.11.6"
  }
 },
 "nbformat": 4,
 "nbformat_minor": 2
}
