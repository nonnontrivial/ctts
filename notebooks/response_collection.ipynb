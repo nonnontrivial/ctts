{
 "cells": [
  {
   "cell_type": "markdown",
   "metadata": {},
   "source": [
    "## response collection\n",
    "\n",
    "The purpose of this notebook is to compare the model predictions saved to a mongodb\n",
    "collection with other sources of information about the site in the model at the time\n",
    "of the astronomical twilight in the response.\n"
   ]
  },
  {
   "cell_type": "code",
   "execution_count": 61,
   "metadata": {},
   "outputs": [
    {
     "data": {
      "text/plain": [
       "Database(MongoClient(host=['ac-atnkhx8-shard-00-00.7a9iiun.mongodb.net:27017', 'ac-atnkhx8-shard-00-02.7a9iiun.mongodb.net:27017', 'ac-atnkhx8-shard-00-01.7a9iiun.mongodb.net:27017'], document_class=dict, tz_aware=False, connect=True, ssl=True, ssl_cert_reqs=<VerifyMode.CERT_NONE: 0>, authsource='admin', replicaset='atlas-3ats48-shard-0'), 'validation_data')"
      ]
     },
     "execution_count": 61,
     "metadata": {},
     "output_type": "execute_result"
    }
   ],
   "source": [
    "import typing as t\n",
    "from dataclasses import dataclass\n",
    "from pathlib import Path\n",
    "from datetime import datetime, timedelta\n",
    "\n",
    "import httpx\n",
    "from pymongo import MongoClient\n",
    "\n",
    "DB_NAME = \"validation_data\"\n",
    "COLLECTION_NAME = \"api_response\"\n",
    "\n",
    "coordinates = (-30.2466, -70.7494)\n",
    "lat, lon = coordinates\n",
    "\n",
    "\n",
    "@dataclass\n",
    "class Site:\n",
    "    lat: str\n",
    "    lon: str\n",
    "    astro_twilight_datetime: datetime\n",
    "\n",
    "\n",
    "with open(Path.cwd() / \".env\") as f:\n",
    "    first_line, *_ = f.read().split(\"\\n\")\n",
    "    idx = first_line.find(\"=\")\n",
    "    uri = first_line[idx + 1 :]\n",
    "\n",
    "\n",
    "def get_db():\n",
    "    client = MongoClient(uri)\n",
    "    return client[DB_NAME]\n",
    "\n",
    "\n",
    "db = get_db()\n",
    "db"
   ]
  },
  {
   "cell_type": "code",
   "execution_count": 62,
   "metadata": {},
   "outputs": [
    {
     "data": {
      "text/plain": [
       "Collection(Database(MongoClient(host=['ac-atnkhx8-shard-00-00.7a9iiun.mongodb.net:27017', 'ac-atnkhx8-shard-00-02.7a9iiun.mongodb.net:27017', 'ac-atnkhx8-shard-00-01.7a9iiun.mongodb.net:27017'], document_class=dict, tz_aware=False, connect=True, ssl=True, ssl_cert_reqs=<VerifyMode.CERT_NONE: 0>, authsource='admin', replicaset='atlas-3ats48-shard-0'), 'validation_data'), 'api_response')"
      ]
     },
     "execution_count": 62,
     "metadata": {},
     "output_type": "execute_result"
    }
   ],
   "source": [
    "collection = db[COLLECTION_NAME]\n",
    "collection"
   ]
  },
  {
   "cell_type": "code",
   "execution_count": 63,
   "metadata": {},
   "outputs": [
    {
     "data": {
      "text/plain": [
       "{'brightness_mpsas': 19.7034,\n",
       " 'astro_twilight': {'iso': '2023-12-31 01:24:12.776', 'type': 'nearest'},\n",
       " '_id': ObjectId('6590c8f6b29b8604829db6cb')}"
      ]
     },
     "execution_count": 63,
     "metadata": {},
     "output_type": "execute_result"
    }
   ],
   "source": [
    "async def get_prediction(coordinates: t.Tuple):\n",
    "    async with httpx.AsyncClient() as client:\n",
    "        url = f\"http://localhost:8000/api/prediction?lat={lat}&lon={lon}\"\n",
    "        r = await client.get(url)\n",
    "        return r.json()\n",
    "\n",
    "\n",
    "async def insert_prediction():\n",
    "    prediction = await get_prediction(coordinates)\n",
    "    collection.insert_one(prediction)\n",
    "    return prediction\n",
    "\n",
    "\n",
    "prediction = await insert_prediction()\n",
    "prediction"
   ]
  },
  {
   "cell_type": "code",
   "execution_count": 64,
   "metadata": {},
   "outputs": [
    {
     "data": {
      "text/plain": [
       "[19.7034,\n",
       " 19.7034,\n",
       " 19.7033,\n",
       " 19.7034,\n",
       " 19.7034,\n",
       " 19.7034,\n",
       " 19.7034,\n",
       " 19.7033,\n",
       " 19.7034]"
      ]
     },
     "execution_count": 64,
     "metadata": {},
     "output_type": "execute_result"
    }
   ],
   "source": [
    "items_in_collection = list(collection.find())\n",
    "brightness_values = [item[\"brightness_mpsas\"] for item in items_in_collection]\n",
    "brightness_values"
   ]
  },
  {
   "cell_type": "code",
   "execution_count": 66,
   "metadata": {},
   "outputs": [
    {
     "name": "stdout",
     "output_type": "stream",
     "text": [
      "https://archive-api.open-meteo.com/v1/archive?latitude=-30.2466&longitude=-70.7494&start_date=2023-12-31&end_date=2024-1-1&hourly=temperature_2m,cloud_cover\n"
     ]
    },
    {
     "ename": "HTTPStatusError",
     "evalue": "Client error '400 Bad Request' for url 'https://archive-api.open-meteo.com/v1/archive?latitude=-30.2466&longitude=-70.7494&start_date=2023-12-31&end_date=2024-1-1&hourly=temperature_2m,cloud_cover'\nFor more information check: https://developer.mozilla.org/en-US/docs/Web/HTTP/Status/400",
     "output_type": "error",
     "traceback": [
      "\u001b[0;31m---------------------------------------------------------------------------\u001b[0m",
      "\u001b[0;31mHTTPStatusError\u001b[0m                           Traceback (most recent call last)",
      "\u001b[1;32m/Users/nonnontrivial/Documents/ctts/notebooks/response_collection.ipynb Cell 6\u001b[0m line \u001b[0;36m2\n\u001b[1;32m     <a href='vscode-notebook-cell:/Users/nonnontrivial/Documents/ctts/notebooks/response_collection.ipynb#W5sZmlsZQ%3D%3D?line=19'>20</a>\u001b[0m astro_twilight_iso \u001b[39m=\u001b[39m prediction[\u001b[39m\"\u001b[39m\u001b[39mastro_twilight\u001b[39m\u001b[39m\"\u001b[39m][\u001b[39m\"\u001b[39m\u001b[39miso\u001b[39m\u001b[39m\"\u001b[39m]\n\u001b[1;32m     <a href='vscode-notebook-cell:/Users/nonnontrivial/Documents/ctts/notebooks/response_collection.ipynb#W5sZmlsZQ%3D%3D?line=20'>21</a>\u001b[0m s \u001b[39m=\u001b[39m Site(\n\u001b[1;32m     <a href='vscode-notebook-cell:/Users/nonnontrivial/Documents/ctts/notebooks/response_collection.ipynb#W5sZmlsZQ%3D%3D?line=21'>22</a>\u001b[0m     lat\u001b[39m=\u001b[39mlat,\n\u001b[1;32m     <a href='vscode-notebook-cell:/Users/nonnontrivial/Documents/ctts/notebooks/response_collection.ipynb#W5sZmlsZQ%3D%3D?line=22'>23</a>\u001b[0m     lon\u001b[39m=\u001b[39mlon,\n\u001b[0;32m   (...)\u001b[0m\n\u001b[1;32m     <a href='vscode-notebook-cell:/Users/nonnontrivial/Documents/ctts/notebooks/response_collection.ipynb#W5sZmlsZQ%3D%3D?line=25'>26</a>\u001b[0m     ),\n\u001b[1;32m     <a href='vscode-notebook-cell:/Users/nonnontrivial/Documents/ctts/notebooks/response_collection.ipynb#W5sZmlsZQ%3D%3D?line=26'>27</a>\u001b[0m )\n\u001b[0;32m---> <a href='vscode-notebook-cell:/Users/nonnontrivial/Documents/ctts/notebooks/response_collection.ipynb#W5sZmlsZQ%3D%3D?line=27'>28</a>\u001b[0m \u001b[39mawait\u001b[39;00m get_historical_meteo_data_at_site(s)\n",
      "\u001b[1;32m/Users/nonnontrivial/Documents/ctts/notebooks/response_collection.ipynb Cell 6\u001b[0m line \u001b[0;36m1\n\u001b[1;32m     <a href='vscode-notebook-cell:/Users/nonnontrivial/Documents/ctts/notebooks/response_collection.ipynb#W5sZmlsZQ%3D%3D?line=12'>13</a>\u001b[0m \u001b[39masync\u001b[39;00m \u001b[39mwith\u001b[39;00m httpx\u001b[39m.\u001b[39mAsyncClient() \u001b[39mas\u001b[39;00m client:\n\u001b[1;32m     <a href='vscode-notebook-cell:/Users/nonnontrivial/Documents/ctts/notebooks/response_collection.ipynb#W5sZmlsZQ%3D%3D?line=13'>14</a>\u001b[0m     r \u001b[39m=\u001b[39m \u001b[39mawait\u001b[39;00m client\u001b[39m.\u001b[39mget(url)\n\u001b[0;32m---> <a href='vscode-notebook-cell:/Users/nonnontrivial/Documents/ctts/notebooks/response_collection.ipynb#W5sZmlsZQ%3D%3D?line=14'>15</a>\u001b[0m     r\u001b[39m.\u001b[39;49mraise_for_status()\n\u001b[1;32m     <a href='vscode-notebook-cell:/Users/nonnontrivial/Documents/ctts/notebooks/response_collection.ipynb#W5sZmlsZQ%3D%3D?line=15'>16</a>\u001b[0m     json \u001b[39m=\u001b[39m r\u001b[39m.\u001b[39mjson()\n\u001b[1;32m     <a href='vscode-notebook-cell:/Users/nonnontrivial/Documents/ctts/notebooks/response_collection.ipynb#W5sZmlsZQ%3D%3D?line=16'>17</a>\u001b[0m     \u001b[39mreturn\u001b[39;00m json[\u001b[39m\"\u001b[39m\u001b[39mhourly\u001b[39m\u001b[39m\"\u001b[39m][\u001b[39m\"\u001b[39m\u001b[39mcloud_cover\u001b[39m\u001b[39m\"\u001b[39m][site\u001b[39m.\u001b[39mastro_twilight_datetime\u001b[39m.\u001b[39mhour]\n",
      "File \u001b[0;32m/Library/Frameworks/Python.framework/Versions/3.11/lib/python3.11/site-packages/httpx/_models.py:759\u001b[0m, in \u001b[0;36mResponse.raise_for_status\u001b[0;34m(self)\u001b[0m\n\u001b[1;32m    757\u001b[0m error_type \u001b[39m=\u001b[39m error_types\u001b[39m.\u001b[39mget(status_class, \u001b[39m\"\u001b[39m\u001b[39mInvalid status code\u001b[39m\u001b[39m\"\u001b[39m)\n\u001b[1;32m    758\u001b[0m message \u001b[39m=\u001b[39m message\u001b[39m.\u001b[39mformat(\u001b[39mself\u001b[39m, error_type\u001b[39m=\u001b[39merror_type)\n\u001b[0;32m--> 759\u001b[0m \u001b[39mraise\u001b[39;00m HTTPStatusError(message, request\u001b[39m=\u001b[39mrequest, response\u001b[39m=\u001b[39m\u001b[39mself\u001b[39m)\n",
      "\u001b[0;31mHTTPStatusError\u001b[0m: Client error '400 Bad Request' for url 'https://archive-api.open-meteo.com/v1/archive?latitude=-30.2466&longitude=-70.7494&start_date=2023-12-31&end_date=2024-1-1&hourly=temperature_2m,cloud_cover'\nFor more information check: https://developer.mozilla.org/en-US/docs/Web/HTTP/Status/400"
     ]
    }
   ],
   "source": [
    "open_meteo_url = \"https://archive-api.open-meteo.com/v1\"\n",
    "\n",
    "\n",
    "async def get_historical_meteo_data_at_site(site: Site) -> t.Any:\n",
    "    def format_datetime(dt: datetime):\n",
    "        return f\"{dt.year}-{dt.month}-{dt.day}\"\n",
    "\n",
    "    astro_twilight_plus_one = site.astro_twilight_datetime + timedelta(days=1)\n",
    "    start_date_str = format_datetime(site.astro_twilight_datetime)\n",
    "    end_date_str = format_datetime(astro_twilight_plus_one)\n",
    "    url = f\"{open_meteo_url}/archive?latitude={site.lat}&longitude={site.lon}&start_date={start_date_str}&end_date={end_date_str}&hourly=temperature_2m,cloud_cover\"\n",
    "    print(url)\n",
    "    async with httpx.AsyncClient() as client:\n",
    "        r = await client.get(url)\n",
    "        r.raise_for_status()\n",
    "        json = r.json()\n",
    "        return json[\"hourly\"][\"cloud_cover\"][site.astro_twilight_datetime.hour]\n",
    "\n",
    "\n",
    "astro_twilight_iso = prediction[\"astro_twilight\"][\"iso\"]\n",
    "s = Site(\n",
    "    lat=lat,\n",
    "    lon=lon,\n",
    "    astro_twilight_datetime=datetime.strptime(\n",
    "        astro_twilight_iso, \"%Y-%m-%d %H:%M:%S.%f\"\n",
    "    ),\n",
    ")\n",
    "await get_historical_meteo_data_at_site(s)"
   ]
  }
 ],
 "metadata": {
  "kernelspec": {
   "display_name": "Python 3",
   "language": "python",
   "name": "python3"
  },
  "language_info": {
   "codemirror_mode": {
    "name": "ipython",
    "version": 3
   },
   "file_extension": ".py",
   "mimetype": "text/x-python",
   "name": "python",
   "nbconvert_exporter": "python",
   "pygments_lexer": "ipython3",
   "version": "3.11.6"
  }
 },
 "nbformat": 4,
 "nbformat_minor": 2
}
